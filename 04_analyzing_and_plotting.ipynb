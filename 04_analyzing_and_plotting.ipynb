{
 "cells": [
  {
   "cell_type": "markdown",
   "metadata": {},
   "source": [
    "## Часть 2.\n",
    "---\n",
    "В данном модуле я полученные данные.\n",
    "\n",
    "В данной части я попытался покрыть даныне критерии:\n",
    "* Обработка данных с помощью pandas.\n",
    "* Визуализация данных.\n",
    "* Математические возможности Python (содержательное использование numpy/scipy, SymPy и т.д. для решения математических задач).\n",
    "* Машинное обучение (построение предсказательных моделей типа регрессий или решающих деревьев).\n",
    "* Работа с графами (библиотека networkx)."
   ]
  },
  {
   "cell_type": "code",
   "execution_count": null,
   "metadata": {},
   "outputs": [],
   "source": [
    "import pandas as pd\n",
    "import geopandas as gpd\n",
    "import numpy as np\n",
    "import matplotlib.pyplot as plt\n",
    "import seaborn as sns\n",
    "import networkx as nx\n",
    "import folium\n",
    "from rich.console import Console"
   ]
  },
  {
   "cell_type": "code",
   "execution_count": null,
   "metadata": {},
   "outputs": [],
   "source": [
    "data = pd.read_csv(\"data_cleaned.csv\")"
   ]
  },
  {
   "cell_type": "code",
   "execution_count": null,
   "metadata": {},
   "outputs": [],
   "source": [
    "data.head()"
   ]
  },
  {
   "cell_type": "code",
   "execution_count": null,
   "metadata": {},
   "outputs": [],
   "source": [
    "Bangkok = ((13.45 - 0.5, 13.45 + 0.5), (100.50 - 0.2, 100.50 + 0.2)) "
   ]
  },
  {
   "cell_type": "code",
   "execution_count": null,
   "metadata": {},
   "outputs": [],
   "source": [
    "fig, ax = plt.subplots(figsize=(10,10))\n",
    "ax.set_xlim(Bangkok[1])\n",
    "ax.set_ylim(Bangkok[0])\n",
    "base = gpd.read_file(gpd.datasets.get_path('naturalearth_lowres'))\n",
    "base.plot(ax=ax, color=\"white\", edgecolor=\"black\")\n",
    "condas = data[[\"latitude\", \"longitude\"]]\n",
    "plt.scatter(data=condas, x=\"longitude\", y=\"latitude\")"
   ]
  },
  {
   "cell_type": "markdown",
   "metadata": {},
   "source": [
    "Что ж, не так уж информативно. Попробуем сделать то же самое, но использовав библиотеку folium"
   ]
  },
  {
   "cell_type": "code",
   "execution_count": null,
   "metadata": {},
   "outputs": [],
   "source": [
    "map = folium.Map(location=[13.75, 100.50], zoom_start=8)\n",
    "for i in range(0,len(data)):\n",
    "    folium.Marker(\n",
    "        location=[data.iloc[[i]][\"latitude\"], data.iloc[[i]]['longitude']],popup=data.iloc[[i]][\"name\"].to_string(), icon=folium.Icon(\"green\")\n",
    "    ).add_to(map)\n",
    "map"
   ]
  },
  {
   "cell_type": "markdown",
   "metadata": {},
   "source": [
    "Довольно много. Отобразим каждую сотую запись"
   ]
  },
  {
   "cell_type": "code",
   "execution_count": null,
   "metadata": {},
   "outputs": [],
   "source": [
    "map = folium.Map(location=[13.75, 100.50], zoom_start=8)\n",
    "for i in range(0,len(data), 100):\n",
    "    folium.Marker(\n",
    "        location=[data.iloc[[i]][\"latitude\"], data.iloc[[i]]['longitude']],popup=data.iloc[[i]][\"name\"].to_string(), icon=folium.Icon(\"green\")\n",
    "    ).add_to(map)\n",
    "map"
   ]
  },
  {
   "cell_type": "markdown",
   "metadata": {},
   "source": [
    "Исходя из этих географических данных можно сделать вывод, что большенство предлагаемых апартаментов расположены в центре города"
   ]
  },
  {
   "cell_type": "markdown",
   "metadata": {},
   "source": [
    "---"
   ]
  },
  {
   "cell_type": "markdown",
   "metadata": {},
   "source": [
    "Посчитаем, во сколько нам обойдется проживание в городе Бангкоке"
   ]
  },
  {
   "cell_type": "code",
   "execution_count": null,
   "metadata": {},
   "outputs": [],
   "source": [
    "console = Console()\n",
    "mean = data[\"price_sqm\"].mean()\n",
    "console.print(f\"Средняя стоимость за метр квадратный\\n{mean}\")\n",
    "sns.scatterplot(data=data, x=data.axes[0],y=\"price_sqm\")"
   ]
  },
  {
   "cell_type": "markdown",
   "metadata": {},
   "source": [
    "Из данного графика видно, что в метр квадратный в Бангкоке обходится в ценовом диапазоне от 50.000 до 120.000"
   ]
  },
  {
   "cell_type": "markdown",
   "metadata": {},
   "source": [
    "и посмотрим, что же коррелирует с данными о цене, приблизительно поняв, из чего складывается такая цена"
   ]
  }
 ],
 "metadata": {
  "interpreter": {
   "hash": "d2ce1258a37d2441b384ab8b622db9b0a68822805ba696192adb680d449b3f49"
  },
  "kernelspec": {
   "display_name": "Python 3.9.13 ('venv': venv)",
   "language": "python",
   "name": "python3"
  },
  "language_info": {
   "codemirror_mode": {
    "name": "ipython",
    "version": 3
   },
   "file_extension": ".py",
   "mimetype": "text/x-python",
   "name": "python",
   "nbconvert_exporter": "python",
   "pygments_lexer": "ipython3",
   "version": "3.9.13"
  },
  "orig_nbformat": 4
 },
 "nbformat": 4,
 "nbformat_minor": 2
}
